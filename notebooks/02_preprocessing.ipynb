{
 "cells": [
  {
   "cell_type": "code",
   "execution_count": null,
   "id": "853bf985",
   "metadata": {},
   "outputs": [
    {
     "name": "stdout",
     "output_type": "stream",
     "text": [
      "2025-10-16 14:02:44 | INFO     | __main__:main - Image size: [224, 224]\n"
     ]
    }
   ],
   "source": [
    "from ricehealthai.core.settings import load_config\n",
    "from ricehealthai.infrastructure.logger import setup_logger\n",
    "\n",
    "logger = setup_logger(__name__)\n",
    "data_cfg = load_config(\"configs/data_config.yaml\")\n",
    "logger.info(f\"ressource path: {data_cfg['data']['raw_dir']}\")\n",
    "\n",
    "\n",
    "\n",
    "if __name__ == \"__main__\":\n",
    "    main()"
   ]
  },
  {
   "cell_type": "code",
   "execution_count": null,
   "id": "dd731ce9",
   "metadata": {},
   "outputs": [],
   "source": []
  }
 ],
 "metadata": {
  "kernelspec": {
   "display_name": "ricehealthai-py3.11",
   "language": "python",
   "name": "python3"
  },
  "language_info": {
   "codemirror_mode": {
    "name": "ipython",
    "version": 3
   },
   "file_extension": ".py",
   "mimetype": "text/x-python",
   "name": "python",
   "nbconvert_exporter": "python",
   "pygments_lexer": "ipython3",
   "version": "3.11.6"
  }
 },
 "nbformat": 4,
 "nbformat_minor": 5
}
